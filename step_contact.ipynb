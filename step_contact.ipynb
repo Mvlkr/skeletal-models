{
 "cells": [
  {
   "attachments": {},
   "cell_type": "markdown",
   "metadata": {},
   "source": [
    "Данный код служит для разметки видеофайлов на наличие контакта ноги с землей."
   ]
  },
  {
   "cell_type": "code",
   "execution_count": 3,
   "metadata": {},
   "outputs": [],
   "source": [
    "import json\n",
    "import cv2 as cv"
   ]
  },
  {
   "cell_type": "code",
   "execution_count": 14,
   "metadata": {},
   "outputs": [],
   "source": [
    "json_file_path = ''\n",
    "video_path = ''"
   ]
  },
  {
   "cell_type": "code",
   "execution_count": 15,
   "metadata": {},
   "outputs": [],
   "source": [
    "f1 = open(json_file_path)\n",
    "j1 = json.load(f1)\n",
    "j_copy = j1.copy()"
   ]
  },
  {
   "cell_type": "code",
   "execution_count": 18,
   "metadata": {},
   "outputs": [],
   "source": [
    "#left leg -> left button click\n",
    "#right leg -> right button click\n",
    "\n",
    "drawing = False  # true if mouse is pressed\n",
    "\n",
    "def draw_points(event, x, y, flags, param):\n",
    "    global x1, y1, x2, y2, drawing\n",
    "    if event == cv.EVENT_LBUTTONDOWN:\n",
    "        drawing = True\n",
    "        j_copy['FrameSequences'][0]['Frames'][int(frame_index)]['DetectedObjects'][0]['FootContacts'].append([x, y, 1])\n",
    "        cv.circle(frame, (x,y), 5, (255,0, 0),-1)\n",
    "        cv.imshow('Frame',frame)\n",
    "    elif event == cv.EVENT_LBUTTONUP:\n",
    "        drawing = False\n",
    "    else:\n",
    "        if event == cv.EVENT_RBUTTONDOWN:\n",
    "            drawing = True\n",
    "            j_copy['FrameSequences'][0]['Frames'][int(frame_index)]['DetectedObjects'][0]['FootContacts'].append([x, y, 0])\n",
    "            cv.circle(frame, (x,y), 5, (0,0, 255),-1)\n",
    "            cv.imshow('Frame',frame)\n",
    "        elif event == cv.EVENT_RBUTTONUP:\n",
    "            drawing = False\n",
    "  \n",
    "      \n",
    "cap = cv.VideoCapture(video_path)\n",
    " \n",
    "if (cap.isOpened()== False): \n",
    "  print(\"Error opening video stream or file\")\n",
    " \n",
    "# Read until video is completed\n",
    "while(cap.isOpened()):\n",
    "  # Capture frame-by-frame\n",
    "  ret, frame = cap.read()\n",
    "  if ret == True:\n",
    "    # Display the resulting frame\n",
    "    frame_index = cap.get(cv.CAP_PROP_POS_FRAMES)\n",
    "    j_copy['FrameSequences'][0]['Frames'][int(frame_index)]['DetectedObjects'][0]['FootContacts'] = []\n",
    "    cv.imshow('Frame',frame)\n",
    "    cv.setMouseCallback('Frame', draw_points)\n",
    "    # Press Q on keyboard to  exit\n",
    "    k = cv.waitKey(50)\n",
    "    if k == ord('q'):\n",
    "      break\n",
    "    elif k == ord('p'):\n",
    "      cv.waitKey(-1)\n",
    "  # Break the loop\n",
    "  else: \n",
    "    break\n",
    " \n",
    "# When everything done, release the video capture object\n",
    "cap.release()\n",
    " \n",
    "# Closes all the frames\n",
    "cv.destroyAllWindows()\n",
    "\n",
    "with open('with_step_contact.json', 'w') as json_file:\n",
    "  json.dump(j_copy, json_file)"
   ]
  }
 ],
 "metadata": {
  "kernelspec": {
   "display_name": "Python 3",
   "language": "python",
   "name": "python3"
  },
  "language_info": {
   "codemirror_mode": {
    "name": "ipython",
    "version": 3
   },
   "file_extension": ".py",
   "mimetype": "text/x-python",
   "name": "python",
   "nbconvert_exporter": "python",
   "pygments_lexer": "ipython3",
   "version": "3.9.6"
  },
  "orig_nbformat": 4
 },
 "nbformat": 4,
 "nbformat_minor": 2
}
