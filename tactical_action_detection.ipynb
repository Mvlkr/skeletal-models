{
  "cells": [
    {
      "cell_type": "code",
      "execution_count": 1,
      "metadata": {
        "id": "IeUsoqjTqp8E"
      },
      "outputs": [],
      "source": [
        "import numpy as np\n",
        "import pandas as pd\n",
        "import matplotlib.pyplot as plt\n",
        "from sklearn.metrics import mean_squared_error\n",
        "from math import sqrt\n",
        "from keras.models import Sequential, Model\n",
        "from keras.layers.core import Dropout, Activation\n",
        "from keras import Input\n",
        "from keras.layers import LSTM, Conv1D, Activation, Dense\n",
        "from keras.models import load_model\n",
        "import keras\n",
        "import seaborn as sns"
      ]
    },
    {
      "cell_type": "code",
      "execution_count": 2,
      "metadata": {
        "colab": {
          "base_uri": "https://localhost:8080/",
          "height": 419
        },
        "id": "ndIBnkzxqp8G",
        "outputId": "ed77a964-1e57-41a2-bb87-99a22b45e0e5"
      },
      "outputs": [
        {
          "data": {
            "text/html": [
              "\n",
              "  <div id=\"df-b0a9ec4b-d46a-42ce-a3ac-bc26cd47b9f1\">\n",
              "    <div class=\"colab-df-container\">\n",
              "      <div>\n",
              "<style scoped>\n",
              "    .dataframe tbody tr th:only-of-type {\n",
              "        vertical-align: middle;\n",
              "    }\n",
              "\n",
              "    .dataframe tbody tr th {\n",
              "        vertical-align: top;\n",
              "    }\n",
              "\n",
              "    .dataframe thead th {\n",
              "        text-align: right;\n",
              "    }\n",
              "</style>\n",
              "<table border=\"1\" class=\"dataframe\">\n",
              "  <thead>\n",
              "    <tr style=\"text-align: right;\">\n",
              "      <th></th>\n",
              "      <th>track</th>\n",
              "      <th>frames</th>\n",
              "      <th>second</th>\n",
              "      <th>left_x</th>\n",
              "      <th>left_y</th>\n",
              "      <th>right_x</th>\n",
              "      <th>right_y</th>\n",
              "      <th>draw</th>\n",
              "    </tr>\n",
              "  </thead>\n",
              "  <tbody>\n",
              "    <tr>\n",
              "      <th>0</th>\n",
              "      <td>7_1_2_9_10_back2_track_0</td>\n",
              "      <td>0</td>\n",
              "      <td>0</td>\n",
              "      <td>-1.173543</td>\n",
              "      <td>-0.978265</td>\n",
              "      <td>1.198401</td>\n",
              "      <td>-1.080769</td>\n",
              "      <td>0</td>\n",
              "    </tr>\n",
              "    <tr>\n",
              "      <th>1</th>\n",
              "      <td>7_1_2_9_10_back2_track_0</td>\n",
              "      <td>1</td>\n",
              "      <td>0</td>\n",
              "      <td>-1.173718</td>\n",
              "      <td>-0.978345</td>\n",
              "      <td>1.198432</td>\n",
              "      <td>-1.080836</td>\n",
              "      <td>0</td>\n",
              "    </tr>\n",
              "    <tr>\n",
              "      <th>2</th>\n",
              "      <td>7_1_2_9_10_back2_track_0</td>\n",
              "      <td>2</td>\n",
              "      <td>0</td>\n",
              "      <td>-1.157852</td>\n",
              "      <td>-0.971772</td>\n",
              "      <td>1.212083</td>\n",
              "      <td>-1.080867</td>\n",
              "      <td>0</td>\n",
              "    </tr>\n",
              "    <tr>\n",
              "      <th>3</th>\n",
              "      <td>7_1_2_9_10_back2_track_0</td>\n",
              "      <td>3</td>\n",
              "      <td>0</td>\n",
              "      <td>-1.172914</td>\n",
              "      <td>-0.971658</td>\n",
              "      <td>1.199090</td>\n",
              "      <td>-1.074577</td>\n",
              "      <td>0</td>\n",
              "    </tr>\n",
              "    <tr>\n",
              "      <th>4</th>\n",
              "      <td>7_1_2_9_10_back2_track_0</td>\n",
              "      <td>4</td>\n",
              "      <td>0</td>\n",
              "      <td>-1.173402</td>\n",
              "      <td>-0.978236</td>\n",
              "      <td>1.211824</td>\n",
              "      <td>-1.081002</td>\n",
              "      <td>0</td>\n",
              "    </tr>\n",
              "    <tr>\n",
              "      <th>...</th>\n",
              "      <td>...</td>\n",
              "      <td>...</td>\n",
              "      <td>...</td>\n",
              "      <td>...</td>\n",
              "      <td>...</td>\n",
              "      <td>...</td>\n",
              "      <td>...</td>\n",
              "      <td>...</td>\n",
              "    </tr>\n",
              "    <tr>\n",
              "      <th>44267</th>\n",
              "      <td>6_171834_back1_track_5</td>\n",
              "      <td>339</td>\n",
              "      <td>11</td>\n",
              "      <td>0.163240</td>\n",
              "      <td>-1.395213</td>\n",
              "      <td>-0.425735</td>\n",
              "      <td>-1.335000</td>\n",
              "      <td>0</td>\n",
              "    </tr>\n",
              "    <tr>\n",
              "      <th>44268</th>\n",
              "      <td>6_171834_back1_track_5</td>\n",
              "      <td>340</td>\n",
              "      <td>11</td>\n",
              "      <td>0.142895</td>\n",
              "      <td>-1.414455</td>\n",
              "      <td>-0.424953</td>\n",
              "      <td>-1.352235</td>\n",
              "      <td>0</td>\n",
              "    </tr>\n",
              "    <tr>\n",
              "      <th>44269</th>\n",
              "      <td>6_171834_back1_track_5</td>\n",
              "      <td>341</td>\n",
              "      <td>11</td>\n",
              "      <td>0.529217</td>\n",
              "      <td>-1.375982</td>\n",
              "      <td>-0.541664</td>\n",
              "      <td>-1.334431</td>\n",
              "      <td>0</td>\n",
              "    </tr>\n",
              "    <tr>\n",
              "      <th>44270</th>\n",
              "      <td>6_171834_back1_track_5</td>\n",
              "      <td>342</td>\n",
              "      <td>11</td>\n",
              "      <td>1.423309</td>\n",
              "      <td>-1.353609</td>\n",
              "      <td>-0.629641</td>\n",
              "      <td>-1.311030</td>\n",
              "      <td>0</td>\n",
              "    </tr>\n",
              "    <tr>\n",
              "      <th>44271</th>\n",
              "      <td>6_171834_back1_track_5</td>\n",
              "      <td>343</td>\n",
              "      <td>11</td>\n",
              "      <td>1.793056</td>\n",
              "      <td>-1.371643</td>\n",
              "      <td>-0.759135</td>\n",
              "      <td>-1.318951</td>\n",
              "      <td>0</td>\n",
              "    </tr>\n",
              "  </tbody>\n",
              "</table>\n",
              "<p>44272 rows × 8 columns</p>\n",
              "</div>\n",
              "      <button class=\"colab-df-convert\" onclick=\"convertToInteractive('df-b0a9ec4b-d46a-42ce-a3ac-bc26cd47b9f1')\"\n",
              "              title=\"Convert this dataframe to an interactive table.\"\n",
              "              style=\"display:none;\">\n",
              "        \n",
              "  <svg xmlns=\"http://www.w3.org/2000/svg\" height=\"24px\"viewBox=\"0 0 24 24\"\n",
              "       width=\"24px\">\n",
              "    <path d=\"M0 0h24v24H0V0z\" fill=\"none\"/>\n",
              "    <path d=\"M18.56 5.44l.94 2.06.94-2.06 2.06-.94-2.06-.94-.94-2.06-.94 2.06-2.06.94zm-11 1L8.5 8.5l.94-2.06 2.06-.94-2.06-.94L8.5 2.5l-.94 2.06-2.06.94zm10 10l.94 2.06.94-2.06 2.06-.94-2.06-.94-.94-2.06-.94 2.06-2.06.94z\"/><path d=\"M17.41 7.96l-1.37-1.37c-.4-.4-.92-.59-1.43-.59-.52 0-1.04.2-1.43.59L10.3 9.45l-7.72 7.72c-.78.78-.78 2.05 0 2.83L4 21.41c.39.39.9.59 1.41.59.51 0 1.02-.2 1.41-.59l7.78-7.78 2.81-2.81c.8-.78.8-2.07 0-2.86zM5.41 20L4 18.59l7.72-7.72 1.47 1.35L5.41 20z\"/>\n",
              "  </svg>\n",
              "      </button>\n",
              "      \n",
              "  <style>\n",
              "    .colab-df-container {\n",
              "      display:flex;\n",
              "      flex-wrap:wrap;\n",
              "      gap: 12px;\n",
              "    }\n",
              "\n",
              "    .colab-df-convert {\n",
              "      background-color: #E8F0FE;\n",
              "      border: none;\n",
              "      border-radius: 50%;\n",
              "      cursor: pointer;\n",
              "      display: none;\n",
              "      fill: #1967D2;\n",
              "      height: 32px;\n",
              "      padding: 0 0 0 0;\n",
              "      width: 32px;\n",
              "    }\n",
              "\n",
              "    .colab-df-convert:hover {\n",
              "      background-color: #E2EBFA;\n",
              "      box-shadow: 0px 1px 2px rgba(60, 64, 67, 0.3), 0px 1px 3px 1px rgba(60, 64, 67, 0.15);\n",
              "      fill: #174EA6;\n",
              "    }\n",
              "\n",
              "    [theme=dark] .colab-df-convert {\n",
              "      background-color: #3B4455;\n",
              "      fill: #D2E3FC;\n",
              "    }\n",
              "\n",
              "    [theme=dark] .colab-df-convert:hover {\n",
              "      background-color: #434B5C;\n",
              "      box-shadow: 0px 1px 3px 1px rgba(0, 0, 0, 0.15);\n",
              "      filter: drop-shadow(0px 1px 2px rgba(0, 0, 0, 0.3));\n",
              "      fill: #FFFFFF;\n",
              "    }\n",
              "  </style>\n",
              "\n",
              "      <script>\n",
              "        const buttonEl =\n",
              "          document.querySelector('#df-b0a9ec4b-d46a-42ce-a3ac-bc26cd47b9f1 button.colab-df-convert');\n",
              "        buttonEl.style.display =\n",
              "          google.colab.kernel.accessAllowed ? 'block' : 'none';\n",
              "\n",
              "        async function convertToInteractive(key) {\n",
              "          const element = document.querySelector('#df-b0a9ec4b-d46a-42ce-a3ac-bc26cd47b9f1');\n",
              "          const dataTable =\n",
              "            await google.colab.kernel.invokeFunction('convertToInteractive',\n",
              "                                                     [key], {});\n",
              "          if (!dataTable) return;\n",
              "\n",
              "          const docLinkHtml = 'Like what you see? Visit the ' +\n",
              "            '<a target=\"_blank\" href=https://colab.research.google.com/notebooks/data_table.ipynb>data table notebook</a>'\n",
              "            + ' to learn more about interactive tables.';\n",
              "          element.innerHTML = '';\n",
              "          dataTable['output_type'] = 'display_data';\n",
              "          await google.colab.output.renderOutput(dataTable, element);\n",
              "          const docLink = document.createElement('div');\n",
              "          docLink.innerHTML = docLinkHtml;\n",
              "          element.appendChild(docLink);\n",
              "        }\n",
              "      </script>\n",
              "    </div>\n",
              "  </div>\n",
              "  "
            ],
            "text/plain": [
              "                          track  frames  second    left_x    left_y   right_x  \\\n",
              "0      7_1_2_9_10_back2_track_0       0       0 -1.173543 -0.978265  1.198401   \n",
              "1      7_1_2_9_10_back2_track_0       1       0 -1.173718 -0.978345  1.198432   \n",
              "2      7_1_2_9_10_back2_track_0       2       0 -1.157852 -0.971772  1.212083   \n",
              "3      7_1_2_9_10_back2_track_0       3       0 -1.172914 -0.971658  1.199090   \n",
              "4      7_1_2_9_10_back2_track_0       4       0 -1.173402 -0.978236  1.211824   \n",
              "...                         ...     ...     ...       ...       ...       ...   \n",
              "44267    6_171834_back1_track_5     339      11  0.163240 -1.395213 -0.425735   \n",
              "44268    6_171834_back1_track_5     340      11  0.142895 -1.414455 -0.424953   \n",
              "44269    6_171834_back1_track_5     341      11  0.529217 -1.375982 -0.541664   \n",
              "44270    6_171834_back1_track_5     342      11  1.423309 -1.353609 -0.629641   \n",
              "44271    6_171834_back1_track_5     343      11  1.793056 -1.371643 -0.759135   \n",
              "\n",
              "        right_y  draw  \n",
              "0     -1.080769     0  \n",
              "1     -1.080836     0  \n",
              "2     -1.080867     0  \n",
              "3     -1.074577     0  \n",
              "4     -1.081002     0  \n",
              "...         ...   ...  \n",
              "44267 -1.335000     0  \n",
              "44268 -1.352235     0  \n",
              "44269 -1.334431     0  \n",
              "44270 -1.311030     0  \n",
              "44271 -1.318951     0  \n",
              "\n",
              "[44272 rows x 8 columns]"
            ]
          },
          "execution_count": 2,
          "metadata": {},
          "output_type": "execute_result"
        }
      ],
      "source": [
        "data = pd.read_csv('data_badminton.csv')\n",
        "data"
      ]
    },
    {
      "cell_type": "code",
      "execution_count": 3,
      "metadata": {
        "colab": {
          "base_uri": "https://localhost:8080/"
        },
        "id": "eV1uaitfqp8H",
        "outputId": "9d184ce4-bdc9-47a9-d8ce-81358281accd"
      },
      "outputs": [
        {
          "name": "stdout",
          "output_type": "stream",
          "text": [
            "shape = (44272, 8)\n",
            "train shape = (29662.24, 8)\n",
            "test shape = (14609.76, 8)\n"
          ]
        }
      ],
      "source": [
        "print(f'shape = {data.shape}')\n",
        "print(f'train shape = {data.shape[0]*0.67, data.shape[1]}')\n",
        "print(f'test shape = {data.shape[0]*0.33, data.shape[1]}')"
      ]
    },
    {
      "cell_type": "code",
      "execution_count": 4,
      "metadata": {
        "id": "Up3B8ieyqp8H"
      },
      "outputs": [],
      "source": [
        "#split to test and train data\n",
        "\n",
        "X = data.drop(columns=['draw'])\n",
        "y = data['draw']\n",
        "\n",
        "train = data[:30146]\n",
        "test = data[30146:]"
      ]
    },
    {
      "cell_type": "code",
      "execution_count": 5,
      "metadata": {
        "colab": {
          "base_uri": "https://localhost:8080/",
          "height": 419
        },
        "id": "kexnCp7vqp8H",
        "outputId": "b75816e7-42fa-4cde-def9-4d8d36ffe836"
      },
      "outputs": [
        {
          "data": {
            "text/html": [
              "\n",
              "  <div id=\"df-cb1ff700-a697-47c2-81f1-ddd34e0b85d8\">\n",
              "    <div class=\"colab-df-container\">\n",
              "      <div>\n",
              "<style scoped>\n",
              "    .dataframe tbody tr th:only-of-type {\n",
              "        vertical-align: middle;\n",
              "    }\n",
              "\n",
              "    .dataframe tbody tr th {\n",
              "        vertical-align: top;\n",
              "    }\n",
              "\n",
              "    .dataframe thead th {\n",
              "        text-align: right;\n",
              "    }\n",
              "</style>\n",
              "<table border=\"1\" class=\"dataframe\">\n",
              "  <thead>\n",
              "    <tr style=\"text-align: right;\">\n",
              "      <th></th>\n",
              "      <th>track</th>\n",
              "      <th>frames</th>\n",
              "      <th>second</th>\n",
              "      <th>left_x</th>\n",
              "      <th>left_y</th>\n",
              "      <th>right_x</th>\n",
              "      <th>right_y</th>\n",
              "      <th>draw</th>\n",
              "    </tr>\n",
              "  </thead>\n",
              "  <tbody>\n",
              "    <tr>\n",
              "      <th>0</th>\n",
              "      <td>7_1_2_9_10_back2_track_0</td>\n",
              "      <td>0</td>\n",
              "      <td>0</td>\n",
              "      <td>-1.173543</td>\n",
              "      <td>-0.978265</td>\n",
              "      <td>1.198401</td>\n",
              "      <td>-1.080769</td>\n",
              "      <td>0</td>\n",
              "    </tr>\n",
              "    <tr>\n",
              "      <th>1</th>\n",
              "      <td>7_1_2_9_10_back2_track_0</td>\n",
              "      <td>1</td>\n",
              "      <td>0</td>\n",
              "      <td>-1.173718</td>\n",
              "      <td>-0.978345</td>\n",
              "      <td>1.198432</td>\n",
              "      <td>-1.080836</td>\n",
              "      <td>0</td>\n",
              "    </tr>\n",
              "    <tr>\n",
              "      <th>2</th>\n",
              "      <td>7_1_2_9_10_back2_track_0</td>\n",
              "      <td>2</td>\n",
              "      <td>0</td>\n",
              "      <td>-1.157852</td>\n",
              "      <td>-0.971772</td>\n",
              "      <td>1.212083</td>\n",
              "      <td>-1.080867</td>\n",
              "      <td>0</td>\n",
              "    </tr>\n",
              "    <tr>\n",
              "      <th>3</th>\n",
              "      <td>7_1_2_9_10_back2_track_0</td>\n",
              "      <td>3</td>\n",
              "      <td>0</td>\n",
              "      <td>-1.172914</td>\n",
              "      <td>-0.971658</td>\n",
              "      <td>1.199090</td>\n",
              "      <td>-1.074577</td>\n",
              "      <td>0</td>\n",
              "    </tr>\n",
              "    <tr>\n",
              "      <th>4</th>\n",
              "      <td>7_1_2_9_10_back2_track_0</td>\n",
              "      <td>4</td>\n",
              "      <td>0</td>\n",
              "      <td>-1.173402</td>\n",
              "      <td>-0.978236</td>\n",
              "      <td>1.211824</td>\n",
              "      <td>-1.081002</td>\n",
              "      <td>0</td>\n",
              "    </tr>\n",
              "    <tr>\n",
              "      <th>...</th>\n",
              "      <td>...</td>\n",
              "      <td>...</td>\n",
              "      <td>...</td>\n",
              "      <td>...</td>\n",
              "      <td>...</td>\n",
              "      <td>...</td>\n",
              "      <td>...</td>\n",
              "      <td>...</td>\n",
              "    </tr>\n",
              "    <tr>\n",
              "      <th>30141</th>\n",
              "      <td>1_1234_back4_track_0</td>\n",
              "      <td>161</td>\n",
              "      <td>5</td>\n",
              "      <td>0.644798</td>\n",
              "      <td>-1.127966</td>\n",
              "      <td>-0.865200</td>\n",
              "      <td>-1.184687</td>\n",
              "      <td>0</td>\n",
              "    </tr>\n",
              "    <tr>\n",
              "      <th>30142</th>\n",
              "      <td>1_1234_back4_track_0</td>\n",
              "      <td>162</td>\n",
              "      <td>5</td>\n",
              "      <td>0.624807</td>\n",
              "      <td>-1.189486</td>\n",
              "      <td>-0.884919</td>\n",
              "      <td>-1.193501</td>\n",
              "      <td>0</td>\n",
              "    </tr>\n",
              "    <tr>\n",
              "      <th>30143</th>\n",
              "      <td>1_1234_back4_track_0</td>\n",
              "      <td>163</td>\n",
              "      <td>5</td>\n",
              "      <td>0.697994</td>\n",
              "      <td>-1.176852</td>\n",
              "      <td>-0.866488</td>\n",
              "      <td>-1.211607</td>\n",
              "      <td>0</td>\n",
              "    </tr>\n",
              "    <tr>\n",
              "      <th>30144</th>\n",
              "      <td>1_1234_back4_track_0</td>\n",
              "      <td>164</td>\n",
              "      <td>5</td>\n",
              "      <td>0.723391</td>\n",
              "      <td>-1.183704</td>\n",
              "      <td>-0.867228</td>\n",
              "      <td>-1.202621</td>\n",
              "      <td>0</td>\n",
              "    </tr>\n",
              "    <tr>\n",
              "      <th>30145</th>\n",
              "      <td>1_1234_back4_track_0</td>\n",
              "      <td>165</td>\n",
              "      <td>5</td>\n",
              "      <td>0.687365</td>\n",
              "      <td>-1.151216</td>\n",
              "      <td>-0.865958</td>\n",
              "      <td>-1.203201</td>\n",
              "      <td>0</td>\n",
              "    </tr>\n",
              "  </tbody>\n",
              "</table>\n",
              "<p>30146 rows × 8 columns</p>\n",
              "</div>\n",
              "      <button class=\"colab-df-convert\" onclick=\"convertToInteractive('df-cb1ff700-a697-47c2-81f1-ddd34e0b85d8')\"\n",
              "              title=\"Convert this dataframe to an interactive table.\"\n",
              "              style=\"display:none;\">\n",
              "        \n",
              "  <svg xmlns=\"http://www.w3.org/2000/svg\" height=\"24px\"viewBox=\"0 0 24 24\"\n",
              "       width=\"24px\">\n",
              "    <path d=\"M0 0h24v24H0V0z\" fill=\"none\"/>\n",
              "    <path d=\"M18.56 5.44l.94 2.06.94-2.06 2.06-.94-2.06-.94-.94-2.06-.94 2.06-2.06.94zm-11 1L8.5 8.5l.94-2.06 2.06-.94-2.06-.94L8.5 2.5l-.94 2.06-2.06.94zm10 10l.94 2.06.94-2.06 2.06-.94-2.06-.94-.94-2.06-.94 2.06-2.06.94z\"/><path d=\"M17.41 7.96l-1.37-1.37c-.4-.4-.92-.59-1.43-.59-.52 0-1.04.2-1.43.59L10.3 9.45l-7.72 7.72c-.78.78-.78 2.05 0 2.83L4 21.41c.39.39.9.59 1.41.59.51 0 1.02-.2 1.41-.59l7.78-7.78 2.81-2.81c.8-.78.8-2.07 0-2.86zM5.41 20L4 18.59l7.72-7.72 1.47 1.35L5.41 20z\"/>\n",
              "  </svg>\n",
              "      </button>\n",
              "      \n",
              "  <style>\n",
              "    .colab-df-container {\n",
              "      display:flex;\n",
              "      flex-wrap:wrap;\n",
              "      gap: 12px;\n",
              "    }\n",
              "\n",
              "    .colab-df-convert {\n",
              "      background-color: #E8F0FE;\n",
              "      border: none;\n",
              "      border-radius: 50%;\n",
              "      cursor: pointer;\n",
              "      display: none;\n",
              "      fill: #1967D2;\n",
              "      height: 32px;\n",
              "      padding: 0 0 0 0;\n",
              "      width: 32px;\n",
              "    }\n",
              "\n",
              "    .colab-df-convert:hover {\n",
              "      background-color: #E2EBFA;\n",
              "      box-shadow: 0px 1px 2px rgba(60, 64, 67, 0.3), 0px 1px 3px 1px rgba(60, 64, 67, 0.15);\n",
              "      fill: #174EA6;\n",
              "    }\n",
              "\n",
              "    [theme=dark] .colab-df-convert {\n",
              "      background-color: #3B4455;\n",
              "      fill: #D2E3FC;\n",
              "    }\n",
              "\n",
              "    [theme=dark] .colab-df-convert:hover {\n",
              "      background-color: #434B5C;\n",
              "      box-shadow: 0px 1px 3px 1px rgba(0, 0, 0, 0.15);\n",
              "      filter: drop-shadow(0px 1px 2px rgba(0, 0, 0, 0.3));\n",
              "      fill: #FFFFFF;\n",
              "    }\n",
              "  </style>\n",
              "\n",
              "      <script>\n",
              "        const buttonEl =\n",
              "          document.querySelector('#df-cb1ff700-a697-47c2-81f1-ddd34e0b85d8 button.colab-df-convert');\n",
              "        buttonEl.style.display =\n",
              "          google.colab.kernel.accessAllowed ? 'block' : 'none';\n",
              "\n",
              "        async function convertToInteractive(key) {\n",
              "          const element = document.querySelector('#df-cb1ff700-a697-47c2-81f1-ddd34e0b85d8');\n",
              "          const dataTable =\n",
              "            await google.colab.kernel.invokeFunction('convertToInteractive',\n",
              "                                                     [key], {});\n",
              "          if (!dataTable) return;\n",
              "\n",
              "          const docLinkHtml = 'Like what you see? Visit the ' +\n",
              "            '<a target=\"_blank\" href=https://colab.research.google.com/notebooks/data_table.ipynb>data table notebook</a>'\n",
              "            + ' to learn more about interactive tables.';\n",
              "          element.innerHTML = '';\n",
              "          dataTable['output_type'] = 'display_data';\n",
              "          await google.colab.output.renderOutput(dataTable, element);\n",
              "          const docLink = document.createElement('div');\n",
              "          docLink.innerHTML = docLinkHtml;\n",
              "          element.appendChild(docLink);\n",
              "        }\n",
              "      </script>\n",
              "    </div>\n",
              "  </div>\n",
              "  "
            ],
            "text/plain": [
              "                          track  frames  second    left_x    left_y   right_x  \\\n",
              "0      7_1_2_9_10_back2_track_0       0       0 -1.173543 -0.978265  1.198401   \n",
              "1      7_1_2_9_10_back2_track_0       1       0 -1.173718 -0.978345  1.198432   \n",
              "2      7_1_2_9_10_back2_track_0       2       0 -1.157852 -0.971772  1.212083   \n",
              "3      7_1_2_9_10_back2_track_0       3       0 -1.172914 -0.971658  1.199090   \n",
              "4      7_1_2_9_10_back2_track_0       4       0 -1.173402 -0.978236  1.211824   \n",
              "...                         ...     ...     ...       ...       ...       ...   \n",
              "30141      1_1234_back4_track_0     161       5  0.644798 -1.127966 -0.865200   \n",
              "30142      1_1234_back4_track_0     162       5  0.624807 -1.189486 -0.884919   \n",
              "30143      1_1234_back4_track_0     163       5  0.697994 -1.176852 -0.866488   \n",
              "30144      1_1234_back4_track_0     164       5  0.723391 -1.183704 -0.867228   \n",
              "30145      1_1234_back4_track_0     165       5  0.687365 -1.151216 -0.865958   \n",
              "\n",
              "        right_y  draw  \n",
              "0     -1.080769     0  \n",
              "1     -1.080836     0  \n",
              "2     -1.080867     0  \n",
              "3     -1.074577     0  \n",
              "4     -1.081002     0  \n",
              "...         ...   ...  \n",
              "30141 -1.184687     0  \n",
              "30142 -1.193501     0  \n",
              "30143 -1.211607     0  \n",
              "30144 -1.202621     0  \n",
              "30145 -1.203201     0  \n",
              "\n",
              "[30146 rows x 8 columns]"
            ]
          },
          "execution_count": 5,
          "metadata": {},
          "output_type": "execute_result"
        }
      ],
      "source": [
        "train"
      ]
    },
    {
      "cell_type": "code",
      "execution_count": 6,
      "metadata": {
        "colab": {
          "base_uri": "https://localhost:8080/",
          "height": 419
        },
        "id": "p5hOjT_8qp8I",
        "outputId": "0994303c-6f89-43f7-fc66-718cb83e0669"
      },
      "outputs": [
        {
          "data": {
            "text/html": [
              "\n",
              "  <div id=\"df-4416aa1f-69b3-4f99-83c1-dfcee84b634b\">\n",
              "    <div class=\"colab-df-container\">\n",
              "      <div>\n",
              "<style scoped>\n",
              "    .dataframe tbody tr th:only-of-type {\n",
              "        vertical-align: middle;\n",
              "    }\n",
              "\n",
              "    .dataframe tbody tr th {\n",
              "        vertical-align: top;\n",
              "    }\n",
              "\n",
              "    .dataframe thead th {\n",
              "        text-align: right;\n",
              "    }\n",
              "</style>\n",
              "<table border=\"1\" class=\"dataframe\">\n",
              "  <thead>\n",
              "    <tr style=\"text-align: right;\">\n",
              "      <th></th>\n",
              "      <th>track</th>\n",
              "      <th>frames</th>\n",
              "      <th>second</th>\n",
              "      <th>left_x</th>\n",
              "      <th>left_y</th>\n",
              "      <th>right_x</th>\n",
              "      <th>right_y</th>\n",
              "      <th>draw</th>\n",
              "    </tr>\n",
              "  </thead>\n",
              "  <tbody>\n",
              "    <tr>\n",
              "      <th>30146</th>\n",
              "      <td>1_1234_back4_track_0</td>\n",
              "      <td>166</td>\n",
              "      <td>5</td>\n",
              "      <td>0.597095</td>\n",
              "      <td>-1.131106</td>\n",
              "      <td>-0.836925</td>\n",
              "      <td>-1.171823</td>\n",
              "      <td>0</td>\n",
              "    </tr>\n",
              "    <tr>\n",
              "      <th>30147</th>\n",
              "      <td>1_1234_back4_track_0</td>\n",
              "      <td>167</td>\n",
              "      <td>5</td>\n",
              "      <td>0.630751</td>\n",
              "      <td>-1.166340</td>\n",
              "      <td>-0.848539</td>\n",
              "      <td>-1.186725</td>\n",
              "      <td>0</td>\n",
              "    </tr>\n",
              "    <tr>\n",
              "      <th>30148</th>\n",
              "      <td>1_1234_back4_track_0</td>\n",
              "      <td>168</td>\n",
              "      <td>5</td>\n",
              "      <td>0.682312</td>\n",
              "      <td>-1.179916</td>\n",
              "      <td>-0.848004</td>\n",
              "      <td>-1.213227</td>\n",
              "      <td>0</td>\n",
              "    </tr>\n",
              "    <tr>\n",
              "      <th>30149</th>\n",
              "      <td>1_1234_back4_track_0</td>\n",
              "      <td>169</td>\n",
              "      <td>5</td>\n",
              "      <td>0.578645</td>\n",
              "      <td>-1.135673</td>\n",
              "      <td>-0.875160</td>\n",
              "      <td>-1.221004</td>\n",
              "      <td>0</td>\n",
              "    </tr>\n",
              "    <tr>\n",
              "      <th>30150</th>\n",
              "      <td>1_1234_back4_track_0</td>\n",
              "      <td>170</td>\n",
              "      <td>5</td>\n",
              "      <td>0.604500</td>\n",
              "      <td>-1.152576</td>\n",
              "      <td>-0.848466</td>\n",
              "      <td>-1.186698</td>\n",
              "      <td>0</td>\n",
              "    </tr>\n",
              "    <tr>\n",
              "      <th>...</th>\n",
              "      <td>...</td>\n",
              "      <td>...</td>\n",
              "      <td>...</td>\n",
              "      <td>...</td>\n",
              "      <td>...</td>\n",
              "      <td>...</td>\n",
              "      <td>...</td>\n",
              "      <td>...</td>\n",
              "    </tr>\n",
              "    <tr>\n",
              "      <th>44267</th>\n",
              "      <td>6_171834_back1_track_5</td>\n",
              "      <td>339</td>\n",
              "      <td>11</td>\n",
              "      <td>0.163240</td>\n",
              "      <td>-1.395213</td>\n",
              "      <td>-0.425735</td>\n",
              "      <td>-1.335000</td>\n",
              "      <td>0</td>\n",
              "    </tr>\n",
              "    <tr>\n",
              "      <th>44268</th>\n",
              "      <td>6_171834_back1_track_5</td>\n",
              "      <td>340</td>\n",
              "      <td>11</td>\n",
              "      <td>0.142895</td>\n",
              "      <td>-1.414455</td>\n",
              "      <td>-0.424953</td>\n",
              "      <td>-1.352235</td>\n",
              "      <td>0</td>\n",
              "    </tr>\n",
              "    <tr>\n",
              "      <th>44269</th>\n",
              "      <td>6_171834_back1_track_5</td>\n",
              "      <td>341</td>\n",
              "      <td>11</td>\n",
              "      <td>0.529217</td>\n",
              "      <td>-1.375982</td>\n",
              "      <td>-0.541664</td>\n",
              "      <td>-1.334431</td>\n",
              "      <td>0</td>\n",
              "    </tr>\n",
              "    <tr>\n",
              "      <th>44270</th>\n",
              "      <td>6_171834_back1_track_5</td>\n",
              "      <td>342</td>\n",
              "      <td>11</td>\n",
              "      <td>1.423309</td>\n",
              "      <td>-1.353609</td>\n",
              "      <td>-0.629641</td>\n",
              "      <td>-1.311030</td>\n",
              "      <td>0</td>\n",
              "    </tr>\n",
              "    <tr>\n",
              "      <th>44271</th>\n",
              "      <td>6_171834_back1_track_5</td>\n",
              "      <td>343</td>\n",
              "      <td>11</td>\n",
              "      <td>1.793056</td>\n",
              "      <td>-1.371643</td>\n",
              "      <td>-0.759135</td>\n",
              "      <td>-1.318951</td>\n",
              "      <td>0</td>\n",
              "    </tr>\n",
              "  </tbody>\n",
              "</table>\n",
              "<p>14126 rows × 8 columns</p>\n",
              "</div>\n",
              "      <button class=\"colab-df-convert\" onclick=\"convertToInteractive('df-4416aa1f-69b3-4f99-83c1-dfcee84b634b')\"\n",
              "              title=\"Convert this dataframe to an interactive table.\"\n",
              "              style=\"display:none;\">\n",
              "        \n",
              "  <svg xmlns=\"http://www.w3.org/2000/svg\" height=\"24px\"viewBox=\"0 0 24 24\"\n",
              "       width=\"24px\">\n",
              "    <path d=\"M0 0h24v24H0V0z\" fill=\"none\"/>\n",
              "    <path d=\"M18.56 5.44l.94 2.06.94-2.06 2.06-.94-2.06-.94-.94-2.06-.94 2.06-2.06.94zm-11 1L8.5 8.5l.94-2.06 2.06-.94-2.06-.94L8.5 2.5l-.94 2.06-2.06.94zm10 10l.94 2.06.94-2.06 2.06-.94-2.06-.94-.94-2.06-.94 2.06-2.06.94z\"/><path d=\"M17.41 7.96l-1.37-1.37c-.4-.4-.92-.59-1.43-.59-.52 0-1.04.2-1.43.59L10.3 9.45l-7.72 7.72c-.78.78-.78 2.05 0 2.83L4 21.41c.39.39.9.59 1.41.59.51 0 1.02-.2 1.41-.59l7.78-7.78 2.81-2.81c.8-.78.8-2.07 0-2.86zM5.41 20L4 18.59l7.72-7.72 1.47 1.35L5.41 20z\"/>\n",
              "  </svg>\n",
              "      </button>\n",
              "      \n",
              "  <style>\n",
              "    .colab-df-container {\n",
              "      display:flex;\n",
              "      flex-wrap:wrap;\n",
              "      gap: 12px;\n",
              "    }\n",
              "\n",
              "    .colab-df-convert {\n",
              "      background-color: #E8F0FE;\n",
              "      border: none;\n",
              "      border-radius: 50%;\n",
              "      cursor: pointer;\n",
              "      display: none;\n",
              "      fill: #1967D2;\n",
              "      height: 32px;\n",
              "      padding: 0 0 0 0;\n",
              "      width: 32px;\n",
              "    }\n",
              "\n",
              "    .colab-df-convert:hover {\n",
              "      background-color: #E2EBFA;\n",
              "      box-shadow: 0px 1px 2px rgba(60, 64, 67, 0.3), 0px 1px 3px 1px rgba(60, 64, 67, 0.15);\n",
              "      fill: #174EA6;\n",
              "    }\n",
              "\n",
              "    [theme=dark] .colab-df-convert {\n",
              "      background-color: #3B4455;\n",
              "      fill: #D2E3FC;\n",
              "    }\n",
              "\n",
              "    [theme=dark] .colab-df-convert:hover {\n",
              "      background-color: #434B5C;\n",
              "      box-shadow: 0px 1px 3px 1px rgba(0, 0, 0, 0.15);\n",
              "      filter: drop-shadow(0px 1px 2px rgba(0, 0, 0, 0.3));\n",
              "      fill: #FFFFFF;\n",
              "    }\n",
              "  </style>\n",
              "\n",
              "      <script>\n",
              "        const buttonEl =\n",
              "          document.querySelector('#df-4416aa1f-69b3-4f99-83c1-dfcee84b634b button.colab-df-convert');\n",
              "        buttonEl.style.display =\n",
              "          google.colab.kernel.accessAllowed ? 'block' : 'none';\n",
              "\n",
              "        async function convertToInteractive(key) {\n",
              "          const element = document.querySelector('#df-4416aa1f-69b3-4f99-83c1-dfcee84b634b');\n",
              "          const dataTable =\n",
              "            await google.colab.kernel.invokeFunction('convertToInteractive',\n",
              "                                                     [key], {});\n",
              "          if (!dataTable) return;\n",
              "\n",
              "          const docLinkHtml = 'Like what you see? Visit the ' +\n",
              "            '<a target=\"_blank\" href=https://colab.research.google.com/notebooks/data_table.ipynb>data table notebook</a>'\n",
              "            + ' to learn more about interactive tables.';\n",
              "          element.innerHTML = '';\n",
              "          dataTable['output_type'] = 'display_data';\n",
              "          await google.colab.output.renderOutput(dataTable, element);\n",
              "          const docLink = document.createElement('div');\n",
              "          docLink.innerHTML = docLinkHtml;\n",
              "          element.appendChild(docLink);\n",
              "        }\n",
              "      </script>\n",
              "    </div>\n",
              "  </div>\n",
              "  "
            ],
            "text/plain": [
              "                        track  frames  second    left_x    left_y   right_x  \\\n",
              "30146    1_1234_back4_track_0     166       5  0.597095 -1.131106 -0.836925   \n",
              "30147    1_1234_back4_track_0     167       5  0.630751 -1.166340 -0.848539   \n",
              "30148    1_1234_back4_track_0     168       5  0.682312 -1.179916 -0.848004   \n",
              "30149    1_1234_back4_track_0     169       5  0.578645 -1.135673 -0.875160   \n",
              "30150    1_1234_back4_track_0     170       5  0.604500 -1.152576 -0.848466   \n",
              "...                       ...     ...     ...       ...       ...       ...   \n",
              "44267  6_171834_back1_track_5     339      11  0.163240 -1.395213 -0.425735   \n",
              "44268  6_171834_back1_track_5     340      11  0.142895 -1.414455 -0.424953   \n",
              "44269  6_171834_back1_track_5     341      11  0.529217 -1.375982 -0.541664   \n",
              "44270  6_171834_back1_track_5     342      11  1.423309 -1.353609 -0.629641   \n",
              "44271  6_171834_back1_track_5     343      11  1.793056 -1.371643 -0.759135   \n",
              "\n",
              "        right_y  draw  \n",
              "30146 -1.171823     0  \n",
              "30147 -1.186725     0  \n",
              "30148 -1.213227     0  \n",
              "30149 -1.221004     0  \n",
              "30150 -1.186698     0  \n",
              "...         ...   ...  \n",
              "44267 -1.335000     0  \n",
              "44268 -1.352235     0  \n",
              "44269 -1.334431     0  \n",
              "44270 -1.311030     0  \n",
              "44271 -1.318951     0  \n",
              "\n",
              "[14126 rows x 8 columns]"
            ]
          },
          "execution_count": 6,
          "metadata": {},
          "output_type": "execute_result"
        }
      ],
      "source": [
        "test"
      ]
    },
    {
      "cell_type": "code",
      "execution_count": 7,
      "metadata": {
        "id": "E2kt_16H1UWL"
      },
      "outputs": [],
      "source": [
        "from sklearn.metrics import accuracy_score, precision_score, recall_score\n",
        "\n",
        "def sigmoid(x):\n",
        "   return 1 / (1 + np.exp(-1*x))\n",
        "\n",
        "def print_metrics(y_test, y_pred_n):\n",
        "  acc = []\n",
        "  pr = []\n",
        "  rec = []\n",
        "  \n",
        "  for i in range(len(y_pred_n[0])):\n",
        "    n = sigmoid(np.array(y_pred_n[0][i]))\n",
        "    n = np.array(np.round(n), dtype=int)\n",
        "    acc.append(accuracy_score(y_test[i], n))\n",
        "    pr.append(np.mean(precision_score(y_test[i], n, zero_division=0, average=None)))\n",
        "    rec.append(np.mean(recall_score(y_test[i], n, zero_division=0, average=None)))\n",
        "  \n",
        "  print(f\"accuracy = {np.mean(acc)}\")\n",
        "  print(f\"precision = {np.mean(pr)}\")\n",
        "  print(f\"recall = {np.mean(rec)}\")"
      ]
    },
    {
      "cell_type": "code",
      "execution_count": 8,
      "metadata": {
        "id": "fhm7xKdzqp8K"
      },
      "outputs": [],
      "source": [
        "def data_creating(N, dataset):\n",
        "    frames = int(N*30)\n",
        "    dataX, dataY = [], []\n",
        "    for name in dataset['track'].unique():\n",
        "        for i in range(len(dataset[dataset['track'] == name])-frames-1):\n",
        "            df = dataset[dataset['track'] == name].copy()\n",
        "            df.index = df[df['track'] == name]['frames']\n",
        "            a = []\n",
        "            for coord in range(3,7):\n",
        "                a.append(df.iloc[i:(i+frames), coord])\n",
        "            a = np.concatenate((np.array(a[0]).reshape(-1,1), np.array(a[1]).reshape(-1,1), \n",
        "                                np.array(a[2]).reshape(-1,1), np.array(a[3]).reshape(-1,1)), axis=1)\n",
        "            dataX.append(a)\n",
        "            dataY.append(df.iloc[i:(i+frames), 7])\n",
        "    return np.array(dataX), np.array(dataY)\n"
      ]
    },
    {
      "cell_type": "code",
      "execution_count": 9,
      "metadata": {
        "id": "rji1Tk2-EoeS"
      },
      "outputs": [],
      "source": [
        "def draw_plot(i, y_test, y_pred_n, n: int = 90):\n",
        "  fig, ax = plt.subplots(figsize=(8,5))\n",
        "  y0 = np.where(np.array(y_test[i]) == 0, 0, None)\n",
        "  y1 = np.where(np.array(y_test[i]) == 1, 1, None)\n",
        "  plt.plot(np.arange(i, i+n - 10), y0[10:], color='k')\n",
        "  plt.plot(np.arange(i, i+n - 10), y1[10:], color='k')\n",
        "  plt.plot(np.arange(i, i+n - 10), sigmoid(np.array(y_pred_n[0][i]))[10:], color='g')\n",
        "  ax.set_yticks([0,  0.2,  0.4,  0.6, 0.8, 1])\n",
        "  ax.set_yticklabels([\"no draw\", \"0.2\", \"0.4\", \"0.6\", \"0.8\",\"draw\"])\n",
        "  plt.tick_params(\n",
        "    axis='x',         \n",
        "    which='both',      \n",
        "    bottom=False,     \n",
        "    top=False,         \n",
        "    labelbottom=False) \n",
        "  plt.xlabel('frames', fontsize=12)\n",
        "  plt.ylabel('probability', fontsize=12)"
      ]
    },
    {
      "attachments": {},
      "cell_type": "markdown",
      "metadata": {
        "id": "STNzqKVd0w8H"
      },
      "source": [
        "Посмотрим на предсказание на 3 секунды"
      ]
    },
    {
      "cell_type": "code",
      "execution_count": 10,
      "metadata": {
        "id": "S1TmWiFpqp8L"
      },
      "outputs": [],
      "source": [
        "x_train3, y_train3 = data_creating(3, train)\n",
        "x_test3, y_test3 = data_creating(3, test)"
      ]
    },
    {
      "cell_type": "code",
      "execution_count": 11,
      "metadata": {
        "colab": {
          "base_uri": "https://localhost:8080/"
        },
        "id": "xa7WyKjHF7sN",
        "outputId": "7b03e15c-35d2-4277-9af7-cdbb68e44a65"
      },
      "outputs": [
        {
          "data": {
            "text/plain": [
              "(22411, 90, 4)"
            ]
          },
          "execution_count": 11,
          "metadata": {},
          "output_type": "execute_result"
        }
      ],
      "source": [
        "x_train3.shape"
      ]
    },
    {
      "cell_type": "code",
      "execution_count": 12,
      "metadata": {
        "id": "GGfrTFEvFPx_"
      },
      "outputs": [],
      "source": [
        "valid_shape = x_train3.shape[0] - int(x_train3.shape[0]*0.15)\n",
        "x_valid3 = x_train3[valid_shape:]\n",
        "y_valid3 = y_train3[valid_shape:]\n",
        "\n",
        "x_train3, y_train3 = x_train3[:valid_shape], y_train3[:valid_shape]"
      ]
    },
    {
      "cell_type": "code",
      "execution_count": 13,
      "metadata": {
        "colab": {
          "base_uri": "https://localhost:8080/"
        },
        "id": "7Us4SBeEqp8L",
        "outputId": "2368b394-9f91-4df3-c9d5-fe1779330a93"
      },
      "outputs": [
        {
          "name": "stdout",
          "output_type": "stream",
          "text": [
            "X_train shape = (19050, 90, 4)\n",
            "y_train shape = (19050, 90)\n",
            "X_test shape = (11214, 90, 4)\n",
            "y_test shape =  (11214, 90)\n"
          ]
        }
      ],
      "source": [
        "print(f\"X_train shape = {x_train3.shape}\")\n",
        "print(f\"y_train shape = {y_train3.shape}\")\n",
        "print(f\"X_test shape = {x_test3.shape}\")\n",
        "print(f\"y_test shape =  {y_test3.shape}\")"
      ]
    },
    {
      "attachments": {},
      "cell_type": "markdown",
      "metadata": {
        "id": "pEcp6Da1DTnY"
      },
      "source": [
        "Модель для детектирования тактических действий для 3 секнуд."
      ]
    },
    {
      "cell_type": "code",
      "execution_count": 14,
      "metadata": {
        "colab": {
          "base_uri": "https://localhost:8080/",
          "height": 1000
        },
        "id": "wjR7nEyFDVuP",
        "outputId": "13b2b8be-c4b2-4082-90d3-ace565afd5ee"
      },
      "outputs": [
        {
          "name": "stdout",
          "output_type": "stream",
          "text": [
            "Epoch 1/25\n",
            "1191/1191 - 52s - loss: 0.3271 - val_loss: 0.4626 - 52s/epoch - 44ms/step\n",
            "Epoch 2/25\n",
            "1191/1191 - 54s - loss: 0.2853 - val_loss: 0.5060 - 54s/epoch - 45ms/step\n",
            "Epoch 3/25\n",
            "1191/1191 - 68s - loss: 0.2739 - val_loss: 0.4657 - 68s/epoch - 57ms/step\n",
            "Epoch 4/25\n",
            "1191/1191 - 59s - loss: 0.2914 - val_loss: 0.4914 - 59s/epoch - 49ms/step\n",
            "Epoch 5/25\n",
            "1191/1191 - 48s - loss: 0.2785 - val_loss: 0.5039 - 48s/epoch - 40ms/step\n",
            "Epoch 6/25\n",
            "1191/1191 - 45s - loss: 0.2763 - val_loss: 0.4971 - 45s/epoch - 38ms/step\n",
            "Epoch 7/25\n",
            "1191/1191 - 47s - loss: 0.2668 - val_loss: 0.4599 - 47s/epoch - 40ms/step\n",
            "Epoch 8/25\n",
            "1191/1191 - 44s - loss: 0.2606 - val_loss: 0.4984 - 44s/epoch - 37ms/step\n",
            "Epoch 9/25\n",
            "1191/1191 - 46s - loss: 0.2633 - val_loss: 0.5015 - 46s/epoch - 39ms/step\n",
            "Epoch 10/25\n",
            "1191/1191 - 45s - loss: 0.2665 - val_loss: 0.4987 - 45s/epoch - 38ms/step\n",
            "Epoch 11/25\n",
            "1191/1191 - 45s - loss: 0.2532 - val_loss: 0.5095 - 45s/epoch - 38ms/step\n",
            "Epoch 12/25\n",
            "1191/1191 - 45s - loss: 0.2401 - val_loss: 0.5466 - 45s/epoch - 37ms/step\n",
            "Epoch 13/25\n",
            "1191/1191 - 46s - loss: 0.2547 - val_loss: 0.4848 - 46s/epoch - 39ms/step\n",
            "Epoch 14/25\n",
            "1191/1191 - 45s - loss: 0.2452 - val_loss: 0.5119 - 45s/epoch - 38ms/step\n",
            "Epoch 15/25\n",
            "1191/1191 - 47s - loss: 0.2317 - val_loss: 0.5091 - 47s/epoch - 39ms/step\n",
            "Epoch 16/25\n",
            "1191/1191 - 47s - loss: 0.2143 - val_loss: 0.5255 - 47s/epoch - 39ms/step\n",
            "Epoch 17/25\n",
            "1191/1191 - 46s - loss: 0.2092 - val_loss: 0.5182 - 46s/epoch - 39ms/step\n",
            "Epoch 18/25\n",
            "1191/1191 - 46s - loss: 0.2046 - val_loss: 0.5201 - 46s/epoch - 39ms/step\n",
            "Epoch 19/25\n",
            "1191/1191 - 45s - loss: 0.2085 - val_loss: 0.5050 - 45s/epoch - 38ms/step\n",
            "Epoch 20/25\n",
            "1191/1191 - 46s - loss: 0.2097 - val_loss: 0.5290 - 46s/epoch - 39ms/step\n",
            "Epoch 21/25\n",
            "1191/1191 - 46s - loss: 0.2035 - val_loss: 0.5609 - 46s/epoch - 38ms/step\n",
            "Epoch 22/25\n",
            "1191/1191 - 47s - loss: 0.1899 - val_loss: 0.5690 - 47s/epoch - 39ms/step\n",
            "Epoch 23/25\n",
            "1191/1191 - 46s - loss: 0.1915 - val_loss: 0.5035 - 46s/epoch - 39ms/step\n",
            "Epoch 24/25\n",
            "1191/1191 - 46s - loss: 0.1974 - val_loss: 0.5875 - 46s/epoch - 39ms/step\n",
            "Epoch 25/25\n",
            "1191/1191 - 47s - loss: 0.1792 - val_loss: 0.6199 - 47s/epoch - 39ms/step\n"
          ]
        },
        {
          "data": {
            "image/png": "[encoded data removed]",
            "text/plain": [
              "<Figure size 640x480 with 1 Axes>"
            ]
          },
          "metadata": {},
          "output_type": "display_data"
        }
      ],
      "source": [
        "model3 = Sequential()\n",
        "model3.add(LSTM(20, input_shape=(90, 4), return_sequences=True))\n",
        "model3.add(Conv1D(filters = 1, kernel_size=1))\n",
        "model3.compile(loss=keras.losses.BinaryCrossentropy(from_logits=True)\n",
        ", optimizer='adam')\n",
        "\n",
        "history = model3.fit(x_train3, y_train3, validation_data=(x_valid3, y_valid3), epochs=25, batch_size=16, verbose=2)\n",
        "\n",
        "plt.plot(history.history['loss'], label='train')\n",
        "plt.plot(history.history['val_loss'], label='valid')\n",
        "plt.legend()\n",
        "plt.show()"
      ]
    },
    {
      "attachments": {},
      "cell_type": "markdown",
      "metadata": {
        "id": "_46ra-n_vqo9"
      },
      "source": [
        "Визуализация слоев модели."
      ]
    },
    {
      "cell_type": "code",
      "execution_count": 15,
      "metadata": {
        "colab": {
          "base_uri": "https://localhost:8080/"
        },
        "id": "Ct4KC6pNJMGc",
        "outputId": "f2f7c659-ea58-4421-d183-5d709e8e33f4"
      },
      "outputs": [
        {
          "name": "stdout",
          "output_type": "stream",
          "text": [
            "Looking in indexes: https://pypi.org/simple, https://us-python.pkg.dev/colab-wheels/public/simple/\n",
            "Collecting visualkeras\n",
            "  Downloading visualkeras-0.0.2-py3-none-any.whl (12 kB)\n",
            "Requirement already satisfied: pillow>=6.2.0 in /usr/local/lib/python3.10/dist-packages (from visualkeras) (8.4.0)\n",
            "Requirement already satisfied: numpy>=1.18.1 in /usr/local/lib/python3.10/dist-packages (from visualkeras) (1.22.4)\n",
            "Collecting aggdraw>=1.3.11 (from visualkeras)\n",
            "  Downloading aggdraw-1.3.16-cp310-cp310-manylinux_2_17_x86_64.manylinux2014_x86_64.whl (993 kB)\n",
            "\u001b[2K     \u001b[90m━━━━━━━━━━━━━━━━━━━━━━━━━━━━━━━━━━━━━━\u001b[0m \u001b[32m993.0/993.0 kB\u001b[0m \u001b[31m13.5 MB/s\u001b[0m eta \u001b[36m0:00:00\u001b[0m\n",
            "\u001b[?25hInstalling collected packages: aggdraw, visualkeras\n",
            "Successfully installed aggdraw-1.3.16 visualkeras-0.0.2\n"
          ]
        }
      ],
      "source": [
        "!pip install visualkeras"
      ]
    },
    {
      "cell_type": "code",
      "execution_count": 16,
      "metadata": {
        "colab": {
          "base_uri": "https://localhost:8080/",
          "height": 312
        },
        "id": "Eurxw3vN0QAp",
        "outputId": "96ef2bd8-9f72-40c2-b5fb-a1788ece00b2"
      },
      "outputs": [
        {
          "data": {
            "image/png": "[encoded data removed]",
            "text/plain": [
              "<IPython.core.display.Image object>"
            ]
          },
          "execution_count": 16,
          "metadata": {},
          "output_type": "execute_result"
        }
      ],
      "source": [
        "from keras.utils.vis_utils import plot_model\n",
        "plot_model(model3, to_file='model_plot.png', show_shapes=True, show_layer_names=True)"
      ]
    },
    {
      "attachments": {},
      "cell_type": "markdown",
      "metadata": {
        "id": "BlkBHOar6fQI"
      },
      "source": [
        "Метрики:"
      ]
    },
    {
      "cell_type": "code",
      "execution_count": 17,
      "metadata": {
        "colab": {
          "base_uri": "https://localhost:8080/"
        },
        "id": "i278zQGZDwM8",
        "outputId": "7f7c90fd-cf4b-4b78-ae98-7ce7ff6506e4"
      },
      "outputs": [
        {
          "name": "stdout",
          "output_type": "stream",
          "text": [
            "351/351 [==============================] - 7s 15ms/step\n",
            "accuracy = 0.9052048035194104\n",
            "precision = 0.7931178672826531\n",
            "recall = 0.7935391291223532\n"
          ]
        }
      ],
      "source": [
        "y_pred3 = model3.predict(x_test3)\n",
        "y_pred_n3 = np.transpose(y_pred3, (2,0,1))\n",
        "print_metrics(y_test3, y_pred_n3)"
      ]
    },
    {
      "attachments": {},
      "cell_type": "markdown",
      "metadata": {
        "id": "VDELUMLov3LX"
      },
      "source": [
        "Визуализация вероятностей."
      ]
    },
    {
      "cell_type": "code",
      "execution_count": 60,
      "metadata": {
        "colab": {
          "base_uri": "https://localhost:8080/",
          "height": 449
        },
        "id": "9bG5FjGD7yEL",
        "outputId": "bcd7af4b-3263-4e0f-d0fa-0b67ed0a95da"
      },
      "outputs": [
        {
          "data": {
            "image/png": "[encoded data removed]",
            "text/plain": [
              "<Figure size 800x500 with 1 Axes>"
            ]
          },
          "metadata": {},
          "output_type": "display_data"
        }
      ],
      "source": [
        "draw_plot(2150, y_test3, y_pred_n3)"
      ]
    },
    {
      "attachments": {},
      "cell_type": "markdown",
      "metadata": {
        "id": "Z0SfnyQrNmGo"
      },
      "source": [
        "Модель для детектирования тактических действий для 2 секнуд."
      ]
    },
    {
      "cell_type": "code",
      "execution_count": 18,
      "metadata": {
        "id": "wDZlq3VzNYVd"
      },
      "outputs": [],
      "source": [
        "x_train2, y_train2 = data_creating(2, train)\n",
        "x_test2, y_test2 = data_creating(2, test)\n",
        "\n",
        "valid_shape = x_train2.shape[0] - int(x_train2.shape[0]*0.2)\n",
        "x_valid2 = x_train2[valid_shape:]\n",
        "y_valid2 = y_train2[valid_shape:]\n",
        "\n",
        "x_train2, y_train2 = x_train2[:valid_shape], y_train2[:valid_shape]"
      ]
    },
    {
      "cell_type": "code",
      "execution_count": 20,
      "metadata": {
        "colab": {
          "base_uri": "https://localhost:8080/"
        },
        "id": "Hr86bOmzNsoI",
        "outputId": "e8663a0d-239f-4fbc-f151-d6f3de4ee005"
      },
      "outputs": [
        {
          "name": "stdout",
          "output_type": "stream",
          "text": [
            "Epoch 1/25\n",
            "625/625 - 23s - loss: 0.4068 - val_loss: 0.4870 - 23s/epoch - 37ms/step\n",
            "Epoch 2/25\n",
            "625/625 - 20s - loss: 0.3391 - val_loss: 0.5062 - 20s/epoch - 32ms/step\n",
            "Epoch 3/25\n",
            "625/625 - 18s - loss: 0.3150 - val_loss: 0.5043 - 18s/epoch - 29ms/step\n",
            "Epoch 4/25\n",
            "625/625 - 18s - loss: 0.2962 - val_loss: 0.5301 - 18s/epoch - 29ms/step\n",
            "Epoch 5/25\n",
            "625/625 - 19s - loss: 0.2820 - val_loss: 0.4918 - 19s/epoch - 30ms/step\n",
            "Epoch 6/25\n",
            "625/625 - 18s - loss: 0.2703 - val_loss: 0.5490 - 18s/epoch - 29ms/step\n",
            "Epoch 7/25\n",
            "625/625 - 19s - loss: 0.2617 - val_loss: 0.5320 - 19s/epoch - 31ms/step\n",
            "Epoch 8/25\n",
            "625/625 - 18s - loss: 0.2503 - val_loss: 0.5405 - 18s/epoch - 29ms/step\n",
            "Epoch 9/25\n",
            "625/625 - 20s - loss: 0.2463 - val_loss: 0.5544 - 20s/epoch - 32ms/step\n",
            "Epoch 10/25\n",
            "625/625 - 20s - loss: 0.2655 - val_loss: 0.5319 - 20s/epoch - 32ms/step\n",
            "Epoch 11/25\n",
            "625/625 - 19s - loss: 0.2633 - val_loss: 0.5053 - 19s/epoch - 30ms/step\n",
            "Epoch 12/25\n",
            "625/625 - 18s - loss: 0.2680 - val_loss: 0.5201 - 18s/epoch - 28ms/step\n",
            "Epoch 13/25\n",
            "625/625 - 19s - loss: 0.2554 - val_loss: 0.5473 - 19s/epoch - 31ms/step\n",
            "Epoch 14/25\n",
            "625/625 - 18s - loss: 0.2367 - val_loss: 0.5312 - 18s/epoch - 28ms/step\n",
            "Epoch 15/25\n",
            "625/625 - 18s - loss: 0.2248 - val_loss: 0.5689 - 18s/epoch - 28ms/step\n",
            "Epoch 16/25\n",
            "625/625 - 19s - loss: 0.2231 - val_loss: 0.5011 - 19s/epoch - 31ms/step\n",
            "Epoch 17/25\n",
            "625/625 - 18s - loss: 0.2159 - val_loss: 0.5731 - 18s/epoch - 29ms/step\n",
            "Epoch 18/25\n",
            "625/625 - 19s - loss: 0.2048 - val_loss: 0.6151 - 19s/epoch - 30ms/step\n",
            "Epoch 19/25\n",
            "625/625 - 18s - loss: 0.2028 - val_loss: 0.5850 - 18s/epoch - 29ms/step\n",
            "Epoch 20/25\n",
            "625/625 - 18s - loss: 0.1987 - val_loss: 0.6232 - 18s/epoch - 29ms/step\n",
            "Epoch 21/25\n",
            "625/625 - 18s - loss: 0.2172 - val_loss: 0.5966 - 18s/epoch - 29ms/step\n",
            "Epoch 22/25\n",
            "625/625 - 19s - loss: 0.2002 - val_loss: 0.5631 - 19s/epoch - 30ms/step\n",
            "Epoch 23/25\n",
            "625/625 - 19s - loss: 0.1956 - val_loss: 0.6196 - 19s/epoch - 30ms/step\n",
            "Epoch 24/25\n",
            "625/625 - 18s - loss: 0.1863 - val_loss: 0.6261 - 18s/epoch - 28ms/step\n",
            "Epoch 25/25\n",
            "625/625 - 19s - loss: 0.1872 - val_loss: 0.5364 - 19s/epoch - 30ms/step\n"
          ]
        },
        {
          "data": {
            "text/plain": [
              "<keras.callbacks.History at 0x7f9cb6f8fc40>"
            ]
          },
          "execution_count": 20,
          "metadata": {},
          "output_type": "execute_result"
        }
      ],
      "source": [
        "model2 = Sequential()\n",
        "model2.add(LSTM(20, input_shape=(60, 4), return_sequences=True))\n",
        "model2.add(Conv1D(filters = 1, kernel_size=1))\n",
        "model2.compile(loss=keras.losses.BinaryCrossentropy(from_logits=True), optimizer='adam')\n",
        "model2.fit(x_train2, y_train2, validation_data=(x_valid2, y_valid2), epochs=25, batch_size=32, verbose=2)"
      ]
    },
    {
      "attachments": {},
      "cell_type": "markdown",
      "metadata": {
        "id": "kEgyPkZu6cPF"
      },
      "source": [
        "Метрики:"
      ]
    },
    {
      "cell_type": "code",
      "execution_count": 21,
      "metadata": {
        "colab": {
          "base_uri": "https://localhost:8080/"
        },
        "id": "ToySL8p4QEZv",
        "outputId": "752773d5-5f99-4d0b-8b53-2c5b83a3f6df"
      },
      "outputs": [
        {
          "name": "stdout",
          "output_type": "stream",
          "text": [
            "381/381 [==============================] - 4s 9ms/step\n",
            "accuracy = 0.8571285800339521\n",
            "precision = 0.7534219491118431\n",
            "recall = 0.7341232862950818\n"
          ]
        }
      ],
      "source": [
        "y_pred2 = model2.predict(x_test2)\n",
        "y_pred_n2 = np.transpose(y_pred2, (2,0,1))\n",
        "print_metrics(y_test2, y_pred_n2)"
      ]
    },
    {
      "attachments": {},
      "cell_type": "markdown",
      "metadata": {
        "id": "_Be7JgMBTWHd"
      },
      "source": [
        "Модель для детектирования тактических действий для 0.5 секнуд."
      ]
    },
    {
      "cell_type": "code",
      "execution_count": 29,
      "metadata": {
        "id": "Bp8w32jVTViO"
      },
      "outputs": [],
      "source": [
        "x_train0, y_train0 = data_creating(0.5, train)\n",
        "x_test0, y_test0 = data_creating(0.5, test)"
      ]
    },
    {
      "cell_type": "code",
      "execution_count": 30,
      "metadata": {
        "id": "kAHatxc-5vSL"
      },
      "outputs": [],
      "source": [
        "valid_shape = x_train0.shape[0] - int(x_train3.shape[0]*0.15)\n",
        "x_valid0 = x_train0[valid_shape:]\n",
        "y_valid0 = y_train0[valid_shape:]\n",
        "\n",
        "x_train0, y_train0 = x_train0[:valid_shape], y_train0[:valid_shape]"
      ]
    },
    {
      "cell_type": "code",
      "execution_count": 31,
      "metadata": {
        "colab": {
          "base_uri": "https://localhost:8080/"
        },
        "id": "zgIOUJxeTdWs",
        "outputId": "0161e54e-1d06-4b9d-8607-eb4ff586857b"
      },
      "outputs": [
        {
          "name": "stdout",
          "output_type": "stream",
          "text": [
            "Epoch 1/25\n",
            "811/811 - 12s - loss: 0.4879 - val_loss: 0.6932 - 12s/epoch - 15ms/step\n",
            "Epoch 2/25\n",
            "811/811 - 8s - loss: 0.4349 - val_loss: 0.6829 - 8s/epoch - 10ms/step\n",
            "Epoch 3/25\n",
            "811/811 - 8s - loss: 0.4203 - val_loss: 0.6954 - 8s/epoch - 10ms/step\n",
            "Epoch 4/25\n",
            "811/811 - 8s - loss: 0.4119 - val_loss: 0.6961 - 8s/epoch - 10ms/step\n",
            "Epoch 5/25\n",
            "811/811 - 9s - loss: 0.4058 - val_loss: 0.7170 - 9s/epoch - 11ms/step\n",
            "Epoch 6/25\n",
            "811/811 - 8s - loss: 0.4000 - val_loss: 0.6574 - 8s/epoch - 10ms/step\n",
            "Epoch 7/25\n",
            "811/811 - 8s - loss: 0.3951 - val_loss: 0.6908 - 8s/epoch - 10ms/step\n",
            "Epoch 8/25\n",
            "811/811 - 9s - loss: 0.3898 - val_loss: 0.7439 - 9s/epoch - 11ms/step\n",
            "Epoch 9/25\n",
            "811/811 - 8s - loss: 0.3851 - val_loss: 0.7018 - 8s/epoch - 10ms/step\n",
            "Epoch 10/25\n",
            "811/811 - 9s - loss: 0.3808 - val_loss: 0.7347 - 9s/epoch - 11ms/step\n",
            "Epoch 11/25\n",
            "811/811 - 9s - loss: 0.3765 - val_loss: 0.6774 - 9s/epoch - 11ms/step\n",
            "Epoch 12/25\n",
            "811/811 - 8s - loss: 0.3719 - val_loss: 0.7322 - 8s/epoch - 9ms/step\n",
            "Epoch 13/25\n",
            "811/811 - 9s - loss: 0.3680 - val_loss: 0.7198 - 9s/epoch - 11ms/step\n",
            "Epoch 14/25\n",
            "811/811 - 8s - loss: 0.3655 - val_loss: 0.7211 - 8s/epoch - 10ms/step\n",
            "Epoch 15/25\n",
            "811/811 - 8s - loss: 0.3609 - val_loss: 0.7112 - 8s/epoch - 10ms/step\n",
            "Epoch 16/25\n",
            "811/811 - 9s - loss: 0.3582 - val_loss: 0.6882 - 9s/epoch - 11ms/step\n",
            "Epoch 17/25\n",
            "811/811 - 9s - loss: 0.3542 - val_loss: 0.7338 - 9s/epoch - 11ms/step\n",
            "Epoch 18/25\n",
            "811/811 - 8s - loss: 0.3519 - val_loss: 0.7347 - 8s/epoch - 9ms/step\n",
            "Epoch 19/25\n",
            "811/811 - 9s - loss: 0.3486 - val_loss: 0.7514 - 9s/epoch - 11ms/step\n",
            "Epoch 20/25\n",
            "811/811 - 8s - loss: 0.3462 - val_loss: 0.7380 - 8s/epoch - 10ms/step\n",
            "Epoch 21/25\n",
            "811/811 - 8s - loss: 0.3431 - val_loss: 0.7095 - 8s/epoch - 9ms/step\n",
            "Epoch 22/25\n",
            "811/811 - 8s - loss: 0.3419 - val_loss: 0.7277 - 8s/epoch - 10ms/step\n",
            "Epoch 23/25\n",
            "811/811 - 8s - loss: 0.3403 - val_loss: 0.7195 - 8s/epoch - 10ms/step\n",
            "Epoch 24/25\n",
            "811/811 - 8s - loss: 0.3378 - val_loss: 0.7363 - 8s/epoch - 10ms/step\n",
            "Epoch 25/25\n",
            "811/811 - 9s - loss: 0.3355 - val_loss: 0.7435 - 9s/epoch - 11ms/step\n"
          ]
        },
        {
          "data": {
            "text/plain": [
              "<keras.callbacks.History at 0x7f9cb7bb9b40>"
            ]
          },
          "execution_count": 31,
          "metadata": {},
          "output_type": "execute_result"
        }
      ],
      "source": [
        "model0 = Sequential()\n",
        "model0.add(LSTM(20, input_shape=(15, 4), return_sequences=True))\n",
        "model0.add(Conv1D(filters = 1, kernel_size=1))\n",
        "model0.compile(loss=keras.losses.BinaryCrossentropy(from_logits=True), optimizer='adam')\n",
        "model0.fit(x_train0, y_train0, validation_data=(x_valid0, y_valid0), epochs=25, batch_size=32, verbose=2)"
      ]
    },
    {
      "attachments": {},
      "cell_type": "markdown",
      "metadata": {
        "id": "Ayx5yEWl6azS"
      },
      "source": [
        "Метрики:"
      ]
    },
    {
      "cell_type": "code",
      "execution_count": 32,
      "metadata": {
        "colab": {
          "base_uri": "https://localhost:8080/"
        },
        "id": "B5nBjkBZW3aC",
        "outputId": "281f69f9-6959-4e50-e231-861e7acb0c9b"
      },
      "outputs": [
        {
          "name": "stdout",
          "output_type": "stream",
          "text": [
            "426/426 [==============================] - 2s 4ms/step\n",
            "accuracy = 0.8300866754811224\n",
            "precision = 0.7990612842750349\n",
            "recall = 0.7756426712987974\n"
          ]
        }
      ],
      "source": [
        "y_pred0 = model0.predict(x_test0)\n",
        "y_pred_n0 = np.transpose(y_pred0, (2,0,1))\n",
        "print_metrics(y_test0, y_pred_n0)"
      ]
    },
    {
      "attachments": {},
      "cell_type": "markdown",
      "metadata": {
        "id": "Ds1mFgScpu1n"
      },
      "source": [
        "Модель для детектирования тактических действий для 5 секнуд."
      ]
    },
    {
      "cell_type": "code",
      "execution_count": 33,
      "metadata": {
        "id": "RkqAko6ApuIk"
      },
      "outputs": [],
      "source": [
        "x_train5, y_train5 = data_creating(5, train)\n",
        "x_test5, y_test5 = data_creating(5, test)"
      ]
    },
    {
      "cell_type": "code",
      "execution_count": 34,
      "metadata": {
        "id": "_ptnzYdm6A6V"
      },
      "outputs": [],
      "source": [
        "valid_shape = x_train5.shape[0] - int(x_train5.shape[0]*0.15)\n",
        "x_valid5 = x_train5[valid_shape:]\n",
        "y_valid5 = y_train5[valid_shape:]\n",
        "\n",
        "x_train5, y_train5 = x_train5[:valid_shape], y_train5[:valid_shape]"
      ]
    },
    {
      "cell_type": "code",
      "execution_count": 35,
      "metadata": {
        "colab": {
          "base_uri": "https://localhost:8080/"
        },
        "id": "4oINX_ZOp2xt",
        "outputId": "adaf3b3b-50aa-4985-99f9-cbcee5c4593a"
      },
      "outputs": [
        {
          "name": "stdout",
          "output_type": "stream",
          "text": [
            "Epoch 1/25\n",
            "463/463 - 35s - loss: 0.2984 - val_loss: 0.3908 - 35s/epoch - 75ms/step\n",
            "Epoch 2/25\n",
            "463/463 - 32s - loss: 0.2379 - val_loss: 0.4095 - 32s/epoch - 69ms/step\n",
            "Epoch 3/25\n",
            "463/463 - 31s - loss: 0.2540 - val_loss: 0.4129 - 31s/epoch - 66ms/step\n",
            "Epoch 4/25\n",
            "463/463 - 31s - loss: 0.2310 - val_loss: 0.3873 - 31s/epoch - 68ms/step\n",
            "Epoch 5/25\n",
            "463/463 - 32s - loss: 0.2140 - val_loss: 0.4373 - 32s/epoch - 69ms/step\n",
            "Epoch 6/25\n",
            "463/463 - 31s - loss: 0.2297 - val_loss: 0.3611 - 31s/epoch - 67ms/step\n",
            "Epoch 7/25\n",
            "463/463 - 31s - loss: 0.2196 - val_loss: 0.3722 - 31s/epoch - 66ms/step\n",
            "Epoch 8/25\n",
            "463/463 - 30s - loss: 0.2183 - val_loss: 0.3813 - 30s/epoch - 65ms/step\n",
            "Epoch 9/25\n",
            "463/463 - 31s - loss: 0.2120 - val_loss: 0.4021 - 31s/epoch - 67ms/step\n",
            "Epoch 10/25\n",
            "463/463 - 30s - loss: 0.2106 - val_loss: 0.4134 - 30s/epoch - 65ms/step\n",
            "Epoch 11/25\n",
            "463/463 - 30s - loss: 0.2097 - val_loss: 0.4034 - 30s/epoch - 65ms/step\n",
            "Epoch 12/25\n",
            "463/463 - 31s - loss: 0.2203 - val_loss: 0.3932 - 31s/epoch - 67ms/step\n",
            "Epoch 13/25\n",
            "463/463 - 32s - loss: 0.2055 - val_loss: 0.3787 - 32s/epoch - 68ms/step\n",
            "Epoch 14/25\n",
            "463/463 - 32s - loss: 0.1981 - val_loss: 0.3810 - 32s/epoch - 70ms/step\n",
            "Epoch 15/25\n",
            "463/463 - 32s - loss: 0.1893 - val_loss: 0.4124 - 32s/epoch - 70ms/step\n",
            "Epoch 16/25\n",
            "463/463 - 32s - loss: 0.1974 - val_loss: 0.3987 - 32s/epoch - 70ms/step\n",
            "Epoch 17/25\n",
            "463/463 - 31s - loss: 0.1860 - val_loss: 0.3904 - 31s/epoch - 67ms/step\n",
            "Epoch 18/25\n",
            "463/463 - 32s - loss: 0.1839 - val_loss: 0.4030 - 32s/epoch - 69ms/step\n",
            "Epoch 19/25\n",
            "463/463 - 31s - loss: 0.1788 - val_loss: 0.3813 - 31s/epoch - 67ms/step\n",
            "Epoch 20/25\n",
            "463/463 - 32s - loss: 0.1751 - val_loss: 0.4117 - 32s/epoch - 70ms/step\n",
            "Epoch 21/25\n",
            "463/463 - 31s - loss: 0.1663 - val_loss: 0.3966 - 31s/epoch - 66ms/step\n",
            "Epoch 22/25\n",
            "463/463 - 32s - loss: 0.1699 - val_loss: 0.4157 - 32s/epoch - 69ms/step\n",
            "Epoch 23/25\n",
            "463/463 - 33s - loss: 0.1696 - val_loss: 0.4265 - 33s/epoch - 72ms/step\n",
            "Epoch 24/25\n",
            "463/463 - 33s - loss: 0.1984 - val_loss: 0.4309 - 33s/epoch - 70ms/step\n",
            "Epoch 25/25\n",
            "463/463 - 33s - loss: 0.1792 - val_loss: 0.4363 - 33s/epoch - 70ms/step\n"
          ]
        },
        {
          "data": {
            "text/plain": [
              "<keras.callbacks.History at 0x7f9cac111510>"
            ]
          },
          "execution_count": 35,
          "metadata": {},
          "output_type": "execute_result"
        }
      ],
      "source": [
        "model5 = Sequential()\n",
        "model5.add(LSTM(20, input_shape=(150, 4), return_sequences=True))\n",
        "model5.add(Conv1D(filters = 1, kernel_size=1))\n",
        "model5.compile(loss=keras.losses.BinaryCrossentropy(from_logits=True), optimizer='adam')\n",
        "model5.fit(x_train5, y_train5, validation_data=(x_valid5, y_valid5), epochs=25, batch_size=32, verbose=2)"
      ]
    },
    {
      "attachments": {},
      "cell_type": "markdown",
      "metadata": {
        "id": "jK3iUE0j6Wsm"
      },
      "source": [
        "Метрики:"
      ]
    },
    {
      "cell_type": "code",
      "execution_count": 36,
      "metadata": {
        "colab": {
          "base_uri": "https://localhost:8080/"
        },
        "id": "Dclw3PL4p-pb",
        "outputId": "35b2c05d-9e84-46a4-962c-0a17a522f271"
      },
      "outputs": [
        {
          "name": "stdout",
          "output_type": "stream",
          "text": [
            "291/291 [==============================] - 7s 21ms/step\n",
            "accuracy = 0.9020608277741913\n",
            "precision = 0.7669818601763421\n",
            "recall = 0.7760268137876499\n"
          ]
        }
      ],
      "source": [
        "y_pred5 = model5.predict(x_test5)\n",
        "y_pred_n5 = np.transpose(y_pred5, (2,0,1))\n",
        "print_metrics(y_test5, y_pred_n5)"
      ]
    }
  ],
  "metadata": {
    "colab": {
      "provenance": []
    },
    "kernelspec": {
      "display_name": "Python 3",
      "language": "python",
      "name": "python3"
    },
    "language_info": {
      "codemirror_mode": {
        "name": "ipython",
        "version": 3
      },
      "file_extension": ".py",
      "mimetype": "text/x-python",
      "name": "python",
      "nbconvert_exporter": "python",
      "pygments_lexer": "ipython3",
      "version": "3.9.6"
    },
    "orig_nbformat": 4
  },
  "nbformat": 4,
  "nbformat_minor": 0
}
